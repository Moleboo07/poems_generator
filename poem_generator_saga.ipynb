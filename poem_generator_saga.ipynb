{
  "cells": [
    {
      "cell_type": "markdown",
      "metadata": {},
      "source": [
        "# Générer un poème en fonction de la saga choisie\n",
        "\n",
        "Ce générateur permet à l'utilisateur de sélectionner sa saga préférée, ainsi qu'un personnage phare et enfin, le type de poème souhaité (haiku, ballade ou sonnet). "
      ]
    },
    {
      "cell_type": "code",
      "execution_count": null,
      "metadata": {
        "id": "YnqfhvH09Hcr"
      },
      "outputs": [],
      "source": [
        "!pip install cohere\n",
        "!pip install tiktoken\n",
        "!pip install openai"
      ]
    },
    {
      "cell_type": "code",
      "execution_count": null,
      "metadata": {
        "id": "aAfE6ZkyD0FE"
      },
      "outputs": [],
      "source": [
        "import openai\n",
        "import os\n",
        "from openai import OpenAI\n",
        "import pandas as pd"
      ]
    },
    {
      "cell_type": "code",
      "execution_count": null,
      "metadata": {
        "id": "w-yx8pqlXLmZ"
      },
      "outputs": [],
      "source": [
        "client = OpenAI(api_key='votre_clé_API')"
      ]
    },
    {
      "cell_type": "code",
      "execution_count": 7,
      "metadata": {
        "colab": {
          "base_uri": "https://localhost:8080/"
        },
        "id": "p9ZBxOwFyMPc",
        "outputId": "b230c239-1641-4c64-cd46-a5eb7c5ce2f0"
      },
      "outputs": [
        {
          "name": "stdout",
          "output_type": "stream",
          "text": [
            "Choisissez parmi Star_Wars, Harry_Potter ou Seigneur_des_anneaux : Star_wars\n",
            "Choix invalide. Veuillez entrer une valeur parmi Star_Wars, Harry_Potter, Seigneur_des_anneaux. Respectez l'orthographe !\n",
            "Choisissez parmi Star_Wars, Harry_Potter ou Seigneur_des_anneaux : Star_Wars\n",
            "Choisissez parmi Jar_Jar_Binks, Yoda ou Vador : Jar_Jar_Binks\n",
            "Choisissez parmi Sonnet, Haiku ou Ballade  : Sonnet\n",
            "\n",
            " Voici votre poème:\n",
            "\n",
            "Oh méesa, JarJar Binks, moi, grand maladroit,\n",
            "Avec démarche malheureuse, toujour tombé,\n",
            "Mais malgré ça, moi, toujours prêt à aider,\n",
            "Dans lutte contre oppresseurs, moi, engagé.\n",
            "\n",
            "Moi, Gungan de Naboo, esprit joyeux,\n",
            "Avec excentricité et optimisme,\n",
            "Moi, montré l'amitié de façon sublime,\n",
            "Même si souvent, je pris pour un gredin.\n",
            "\n",
            "De Yoda, grand Maître Jedi, moi, appris,\n",
            "La sagesse profonde et les valeurs Jedi,\n",
            "Moi, JarJar Binks, gardien de l'équilibre.\n",
            "\n",
            "Mais hélas, moi, associé à Dark Vador,\n",
            "L'incarnation du côté obscur, trahi,\n",
            "Moi, tragique personnage, dans la galaxie.\n",
            "\n",
            "Oh méesa, JarJar Binks, maladroit mais loyal,\n",
            "Avec moi, l'amitié est toujours royal.\n"
          ]
        }
      ],
      "source": [
        "choix_film_user = None\n",
        "\n",
        "#L'utilisateur choisit d'abord une sage parmi les trois proposées.\n",
        "while choix_film_user not in ['Star_Wars', 'Harry_Potter', 'Seigneur_des_anneaux']:\n",
        "    choix_film_user = input(\"Choisissez parmi Star_Wars, Harry_Potter ou Seigneur_des_anneaux : \")\n",
        "\n",
        "    if choix_film_user not in ['Star_Wars', 'Harry_Potter', 'Seigneur_des_anneaux']:\n",
        "        print(\"Choix invalide. Veuillez entrer une valeur parmi Star_Wars, Harry_Potter, Seigneur_des_anneaux. Respectez l'orthographe !\")\n",
        "\n",
        "#Une fois la saga choisie, il sélectionne un personnage de l'univers en question.\n",
        "if choix_film_user == 'Star_Wars':\n",
        "    perso_user = None\n",
        "    while perso_user not in ['Jar_Jar_Binks', 'Yoda', 'Vador']:\n",
        "      perso_user = input(\"Choisissez parmi Jar_Jar_Binks, Yoda ou Vador : \")\n",
        "\n",
        "      if perso_user not in ['Jar_Jar_Binks', 'Yoda', 'Vador']:\n",
        "          print(\"Choix invalide. Veuillez entrer un personnage valide parmi Jar_Jar_Binks, Yoda, Vador. Respectez l'orthographe !\")\n",
        "\n",
        "\n",
        "elif choix_film_user == 'Harry_Potter':\n",
        "    perso_user = None\n",
        "    while perso_user not in ['Gryffondor', 'Poufsouffle', 'Serdaigle', 'Serpentard']:\n",
        "      perso_user = input(\"Choisissez parmi Gryffondor, Poufsouffle, Serdaigle ou Serpentard: \")\n",
        "\n",
        "      if perso_user not in ['Gryffondor', 'Poufsouffle', 'Serdaigle', 'Serpentard']:\n",
        "          print(\"Choix invalide. Veuillez entrer un personnage valide parmi Gryffondor, Poufsouffle, Serdaigle,Serpentard. Respectez l'orthographe !\")\n",
        "\n",
        "\n",
        "elif choix_film_user == 'Seigneur_des_anneaux':\n",
        "    perso_user = None\n",
        "    while perso_user not in ['Azog', 'Legolas', 'Gimli']:\n",
        "      perso_user = input(\"Choisissez parmi Azog, Legolas ou Gimli : \")\n",
        "\n",
        "      if perso_user not in ['Azog', 'Legolas', 'Gimli']:\n",
        "          print(\"Choix invalide. Veuillez entrer un personnage valide parmi Azog, Legolas, Gimli. Respectez l'orthographe !\")\n",
        "\n",
        "#Pour finir, il choisit le type de poème qu'il souhaite.\n",
        "choix_poem_user = None\n",
        "\n",
        "while choix_poem_user not in ['Sonnet', 'Haiku', 'Ballade']:\n",
        "    choix_poem_user = input(\"Choisissez parmi Sonnet, Haiku ou Ballade  : \")\n",
        "\n",
        "    if choix_poem_user not in ['Sonnet', 'Haiku', 'Ballade']:\n",
        "        print(\"Choix invalide. Veuillez entrer une valeur parmi Sonnet, Haiku, Ballade. Respectez l'orthographe !\")\n",
        "\n",
        "#On utilise les DataSets de mots afin de donner une personnalité à ChatGPT et des mots à utiliser.\n",
        "#On télécharge les DataSets liés aux sagas.\n",
        "data_lotr = './df_lotr.csv'\n",
        "data_star_wars = './df_starwars.csv'\n",
        "data_harry_potter = './df_potter.csv'\n",
        "\n",
        "df_lotr = pd.read_csv(data_lotr)\n",
        "df_star_wars = pd.read_csv(data_star_wars)\n",
        "df_harry_potter = pd.read_csv(data_harry_potter)\n",
        "\n",
        "if choix_film_user == 'Seigneur_des_anneaux':\n",
        "    df_selected = df_lotr\n",
        "elif choix_film_user == 'Star_Wars':\n",
        "    df_selected = df_star_wars\n",
        "elif choix_film_user == 'Harry_Potter':\n",
        "    df_selected = df_harry_potter\n",
        "else:\n",
        "    print(\"Choix invalide\")\n",
        "\n",
        "\n",
        "#On convertit le dataframe en string pour qu'il puisse être lu par l'IA.\n",
        "df_str = df_selected.to_string()\n",
        "\n",
        "#On utilise l'API de ChatGPT comme générateur de poème en lui donnant les instructions sélectionnées précédemment.\n",
        "chat_completion = client.chat.completions.create(\n",
        "    messages=[\n",
        "        {\"role\": \"system\", \"content\": \"tu es \"+perso_user+\" de l'univers de \"+choix_film_user+\" voici une liste de mot te concernant : \"+df_str },\n",
        "        {\"role\": \"user\",\"content\": \"fais moi un poème de type \"+choix_poem_user+\" en te comportant comme \"+perso_user},\n",
        "    ],\n",
        "    model=\"gpt-3.5-turbo\",\n",
        ")\n",
        "\n",
        "#On affiche le poème.\n",
        "print(\"\\n Voici votre poème:\\n\")\n",
        "print(chat_completion.choices[0].message.content)\n"
      ]
    }
  ],
  "metadata": {
    "colab": {
      "provenance": []
    },
    "kernelspec": {
      "display_name": "Python 3",
      "name": "python3"
    },
    "language_info": {
      "name": "python"
    }
  },
  "nbformat": 4,
  "nbformat_minor": 0
}
